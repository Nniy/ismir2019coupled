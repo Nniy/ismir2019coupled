{
 "cells": [
  {
   "cell_type": "code",
   "execution_count": null,
   "metadata": {},
   "outputs": [],
   "source": [
    "import os\n",
    "import numpy as np\n",
    "import torch\n",
    "from torch import Tensor\n",
    "from torch.nn.parameter import Parameter\n",
    "from torch.autograd import Variable\n",
    "import torch.nn.functional as F\n",
    "\n",
    "from lib.parts_dataset import PartsDataset,DatasetSplit\n",
    "from lib.parts_model import PartsModel\n",
    "from lib.opt import optimize\n",
    "\n",
    "import lib.media as media\n",
    "from IPython.display import Audio\n",
    "from scipy.io import wavfile"
   ]
  },
  {
   "cell_type": "code",
   "execution_count": null,
   "metadata": {},
   "outputs": [],
   "source": [
    "os.environ['CUDA_DEVICE_ORDER']='PCI_BUS_ID'   # see issue #152\n",
    "os.environ['CUDA_VISIBLE_DEVICES']='0'\n",
    "#os.environ['CUDA_LAUNCH_BLOCKING']='1'\n",
    "\n",
    "checkpoint_dir = '_singlepart14'\n",
    "context = 5"
   ]
  },
  {
   "cell_type": "code",
   "execution_count": null,
   "metadata": {},
   "outputs": [],
   "source": [
    "train_set = PartsDataset(context=context,split=DatasetSplit.train)\n",
    "test_set = PartsDataset(context=context,split=DatasetSplit.test)"
   ]
  },
  {
   "cell_type": "code",
   "execution_count": null,
   "metadata": {},
   "outputs": [],
   "source": [
    "class Model(PartsModel):\n",
    "    def __init__(self, *args, **kwargs):\n",
    "        super().__init__(*args, **kwargs)\n",
    "        \n",
    "    def define_graph(self, debug=False):\n",
    "        self.knote = 16\n",
    "        self.k = 300\n",
    "        self.maxdur = train_set.maxdur\n",
    "        \n",
    "        # reference meter for pitch class\n",
    "        self.noteref = np.zeros([1,1,2*self.m-1],dtype=np.float32)\n",
    "        self.noteref[0,0,self.m] = 1\n",
    "        self.noteref = Variable(torch.from_numpy(self.noteref).cuda(), requires_grad=False)\n",
    "        \n",
    "        fold = np.zeros([self.m,12],dtype=np.float32)\n",
    "        for n in range(self.m):\n",
    "            fold[n,n%12] = 1\n",
    "        self.fold = Variable(torch.from_numpy(fold).cuda(),requires_grad=False)\n",
    "        \n",
    "        # rhythm prediction\n",
    "        self.rhythm_wt = Parameter(Tensor(self.context*self.maxdur,self.k))\n",
    "        self.rhythm_wn = Parameter(Tensor(12*self.context,self.k))\n",
    "        self.rhythm_wloc = Parameter(Tensor(48,self.k))\n",
    "        \n",
    "        self.rhythm_wtop = Parameter(Tensor(self.k,self.maxdur))\n",
    "        self.rhythm_bias = Parameter(Tensor(self.maxdur))\n",
    "        \n",
    "        # notes prediction\n",
    "        self.notes_wnote = Parameter(Tensor(self.knote,1,1,2*self.m))\n",
    "        \n",
    "        self.notes_wt = Parameter(Tensor(self.context*self.maxdur,self.k))\n",
    "        self.notes_wn = Parameter(Tensor(self.k,self.knote,self.context,1))\n",
    "        self.notes_wyt = Parameter(Tensor(self.maxdur,self.k))\n",
    "        self.notes_wyn = Parameter(Tensor(self.k,1,self.m-1))\n",
    "        self.notes_wref = Parameter(Tensor(self.k,1,self.m))\n",
    "        \n",
    "        self.notes_wtop = Parameter(Tensor(self.k,1))\n",
    "        self.notes_bias = Parameter(Tensor(self.m))\n",
    "    \n",
    "    def predict_rhythm(self, e, t, loc):\n",
    "        frhythm = torch.mm(t.view(-1,self.context*self.maxdur),self.rhythm_wt)\n",
    "        ef = torch.mm(e.view(-1,self.m),self.fold).view(e.shape[0],e.shape[1],-1)\n",
    "        fnotes = torch.mm(ef.view(-1,self.context*12),self.rhythm_wn)\n",
    "        floc = torch.mm(loc,self.rhythm_wloc)\n",
    "        \n",
    "        zx = F.relu(frhythm + fnotes + floc)\n",
    "        return torch.mm(zx,self.rhythm_wtop) + self.rhythm_bias\n",
    "    \n",
    "    def predict_notes(self, e, t, y, yt):\n",
    "        fembed = F.conv2d(F.pad(e,(self.m,self.m-1,0,0,0,0))[:,None],self.notes_wnote)\n",
    "        \n",
    "        frhythm = torch.mm(t.view(-1,self.context*self.maxdur),self.notes_wt)[:,:,None]\n",
    "        fnotes = F.conv2d(fembed,self.notes_wn)[:,:,0,:]\n",
    "        fcurt = torch.mm(yt,self.notes_wyt)[:,:,None]\n",
    "        fcurn = F.conv1d(F.pad(y,(self.m-1,0,0,0))[:,None],self.notes_wyn)[:,:,:-1]\n",
    "        fref = F.conv1d(self.noteref,self.notes_wref)\n",
    "        \n",
    "        zx = F.relu(frhythm + fnotes + fcurt + fcurn + fref).transpose(1,2).contiguous()\n",
    "        return torch.mm(zx.view(-1,self.k),self.notes_wtop).view(-1,self.m) + self.notes_bias\n",
    "    \n",
    "    def forward(self, x):\n",
    "        e,t,y,yt,loc = x\n",
    "        return self.predict_rhythm(e,t,loc), self.predict_notes(e,t,y,yt)"
   ]
  },
  {
   "cell_type": "code",
   "execution_count": null,
   "metadata": {},
   "outputs": [],
   "source": [
    "model = Model(checkpoint_dir, avg=.999, context_length=context,\n",
    "              offset=train_set.offset, m=train_set.m, dur_map=train_set.dur_map,\n",
    "              weight_scale=.01)\n",
    "model.initialize()"
   ]
  },
  {
   "cell_type": "code",
   "execution_count": null,
   "metadata": {},
   "outputs": [],
   "source": [
    "optimize(model,train_set,test_set,learning_rate=.01,batch_size=300,workers=4,update_rate=1000)"
   ]
  },
  {
   "cell_type": "code",
   "execution_count": null,
   "metadata": {},
   "outputs": [],
   "source": [
    "optimize(model,train_set,test_set,learning_rate=.001,batch_size=300,workers=4,update_rate=1000)"
   ]
  },
  {
   "cell_type": "code",
   "execution_count": null,
   "metadata": {},
   "outputs": [],
   "source": [
    "model.restore_checkpoint()\n",
    "plt = media.PlotFormatter()\n",
    "plt.plot('log loss',model.stats['ll_tr'][2],color='b')\n",
    "plt.plot('log loss',model.stats['ll_test'][2],color='g',share=True)\n",
    "plt.plot('avp notes',model.stats['apn_tr'][2],color='b')\n",
    "plt.plot('avp notes',model.stats['apn_ts'][2],color='g',share=True)\n",
    "plt.plot('rhythm weights',model.sum_weights('rhythm'),color='g')\n",
    "plt.plot('notes weights',model.sum_weights('notes'),color='g')\n",
    "plt.plot('rhythm log loss',model.stats['llt_tr'][2],color='b')\n",
    "plt.plot('rhythm log loss',model.stats['llt_ts'][2],color='g',share=True)\n",
    "plt.plot('notes log loss',model.stats['lln_tr'][2],color='b')\n",
    "plt.plot('notes log loss',model.stats['lln_ts'][2],color='g',share=True)\n",
    "plt.show()"
   ]
  },
  {
   "cell_type": "code",
   "execution_count": null,
   "metadata": {},
   "outputs": [],
   "source": []
  }
 ],
 "metadata": {
  "kernelspec": {
   "display_name": "Python 3",
   "language": "python",
   "name": "python3"
  },
  "language_info": {
   "codemirror_mode": {
    "name": "ipython",
    "version": 3
   },
   "file_extension": ".py",
   "mimetype": "text/x-python",
   "name": "python",
   "nbconvert_exporter": "python",
   "pygments_lexer": "ipython3",
   "version": "3.5.2"
  }
 },
 "nbformat": 4,
 "nbformat_minor": 2
}
