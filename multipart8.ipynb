{
 "cells": [
  {
   "cell_type": "code",
   "execution_count": null,
   "metadata": {},
   "outputs": [],
   "source": [
    "import os\n",
    "import numpy as np\n",
    "import torch\n",
    "from torch import Tensor\n",
    "from torch.nn.parameter import Parameter\n",
    "from torch.autograd import Variable\n",
    "import torch.nn.functional as F\n",
    "\n",
    "from lib.voices_dataset import VoicesDataset,DatasetSplit\n",
    "from lib.voices_model import VoicesModel\n",
    "from lib.opt import optimize\n",
    "from lib.config import corpora,piano_corpora\n",
    "\n",
    "import lib.media as media\n",
    "from IPython.display import Audio,clear_output\n",
    "from scipy.io import wavfile"
   ]
  },
  {
   "cell_type": "code",
   "execution_count": null,
   "metadata": {},
   "outputs": [],
   "source": [
    "os.environ['CUDA_DEVICE_ORDER']='PCI_BUS_ID'   # see issue #152\n",
    "os.environ['CUDA_VISIBLE_DEVICES']='0'\n",
    "#os.environ['CUDA_LAUNCH_BLOCKING']='1'\n",
    "\n",
    "checkpoint_dir = '_multipart8'\n",
    "context = 10"
   ]
  },
  {
   "cell_type": "code",
   "execution_count": null,
   "metadata": {},
   "outputs": [],
   "source": [
    "non_piano_corpora = tuple([corpus for corpus in corpora.keys() if corpus not in piano_corpora])\n",
    "train_set = VoicesDataset(context=context,split=DatasetSplit.train, corpora=non_piano_corpora)\n",
    "test_set = VoicesDataset(context=context,split=DatasetSplit.test, corpora=non_piano_corpora)"
   ]
  },
  {
   "cell_type": "code",
   "execution_count": null,
   "metadata": {},
   "outputs": [],
   "source": [
    "class Model(VoicesModel):\n",
    "    def __init__(self, *args, **kwargs):\n",
    "        super().__init__(*args, **kwargs)\n",
    "    \n",
    "    def define_graph(self, debug=False):\n",
    "        self.knote = 16\n",
    "        self.kt = self.kn = 300\n",
    "        self.parts = train_set.max_parts\n",
    "        self.maxdur = train_set.maxdur\n",
    "        self.dur_features = len(train_set.dur_map)\n",
    "                \n",
    "        # reference meter for pitch class\n",
    "        self.noteref = np.zeros([1,1,2*self.m-1],dtype=np.float32)\n",
    "        self.noteref[0,0,self.m] = 1\n",
    "        self.noteref = Variable(torch.from_numpy(self.noteref).cuda(), requires_grad=False)\n",
    "        \n",
    "        fold = np.zeros([self.m,12],dtype=np.float32)\n",
    "        for n in range(self.m):\n",
    "            fold[n,n%12] = 1\n",
    "        self.fold = Variable(torch.from_numpy(fold).cuda(),requires_grad=False)\n",
    "        \n",
    "        # rhythm prediction\n",
    "        self.rhythm_wt = Parameter(Tensor(self.dur_features,self.kt))\n",
    "        self.rhythm_wn = Parameter(Tensor(12,self.kt))\n",
    "        self.rhythm_wh = Parameter(Tensor(self.kt,self.kt))\n",
    "        self.rhythm_wloc = Parameter(Tensor(48,self.kt))\n",
    "        \n",
    "        self.rhythm_wtop = Parameter(Tensor(self.kt,self.maxdur))\n",
    "        self.rhythm_bias = Parameter(Tensor(self.maxdur))\n",
    "        \n",
    "        # notes prediction\n",
    "        self.notes_wnote = Parameter(Tensor(self.knote,1,1,2*self.m))\n",
    "        \n",
    "        self.notes_wn = Parameter(Tensor(self.knote,self.kn))\n",
    "        self.notes_wyn = Parameter(Tensor(self.kn,1,self.m-1))\n",
    "        self.notes_wt = Parameter(Tensor(self.dur_features,self.kn))\n",
    "        self.notes_wref = Parameter(Tensor(self.kn,1,self.m))\n",
    "        self.notes_wh = Parameter(Tensor(self.kn,self.kn))\n",
    "        \n",
    "        self.notes_wtop = Parameter(Tensor(self.kn,1))\n",
    "        self.notes_bias = Parameter(Tensor(self.m))\n",
    "        \n",
    "    def predict_rhythm(self, e, t, loc):\n",
    "        ht = torch.mm(t.view(-1,self.dur_features),self.rhythm_wt).view(-1,self.context,self.kt)\n",
    "        ef = torch.mm(e.view(-1,self.m),self.fold).view(-1,self.context,12)\n",
    "        hn = torch.mm(ef.view(-1,12),self.rhythm_wn).view(-1,self.context,self.kt)\n",
    "        floc = torch.mm(loc,self.rhythm_wloc)\n",
    "        \n",
    "        h = Variable(torch.zeros(1,self.kt).cuda())\n",
    "        for k in range(self.context):\n",
    "            hh = torch.mm(h,self.rhythm_wh)\n",
    "            h = F.relu(hh + ht[:,k,:] + hn[:,k,:] + floc)\n",
    "        \n",
    "        return torch.mm(h,self.rhythm_wtop) + self.rhythm_bias\n",
    "    \n",
    "    def predict_notes(self, e, t, y, yt, loc):\n",
    "        fembed = F.conv2d(F.pad(e,(self.m,self.m-1,0,0,0,0))[:,None],self.notes_wnote).transpose(1,3).contiguous()\n",
    "        \n",
    "        t = torch.cat([t,yt[:,None,:]],dim=1)\n",
    "        ht = torch.mm(t.view(-1,self.dur_features),self.notes_wt).view(-1,self.context+1,self.kn)[:,None,:,:]\n",
    "        \n",
    "        hn = torch.mm(fembed.view(-1,self.knote),self.notes_wn).view(-1,self.m,self.context,self.kn)\n",
    "        hnc = F.conv1d(F.pad(y,(self.m-1,0,0,0))[:,None],self.notes_wyn)[:,:,None,:-1].transpose(1,3).contiguous()\n",
    "        hn = torch.cat([hn,hnc],dim=2)\n",
    "        href = F.conv1d(self.noteref,self.notes_wref).transpose(1,2)\n",
    "        \n",
    "        h = Variable(torch.zeros(1,self.m,self.kn).cuda())\n",
    "        for k in range(self.context+1):\n",
    "            hh = torch.mm(h.view(-1,self.kn),self.notes_wh).view(-1,self.m,self.kn)\n",
    "            h = F.relu(hh + ht[:,:,k,:] + hn[:,:,k,:] + href)\n",
    "        \n",
    "        return torch.mm(h.view(-1,self.kn),self.notes_wtop).view(-1,self.m) + self.notes_bias\n",
    "    \n",
    "    def forward(self, x):\n",
    "        e,t,f,y,yt,yf,loc,corpus = x\n",
    "        \n",
    "        e = e[:,:,0,:].contiguous(); t = t[:,:,0,:].contiguous()\n",
    "        y = y[:,0,:].contiguous(); yt = yt[:,0,:].contiguous()\n",
    "        return self.predict_rhythm(e,t,loc), self.predict_notes(e,t,y,yt,loc)"
   ]
  },
  {
   "cell_type": "code",
   "execution_count": null,
   "metadata": {},
   "outputs": [],
   "source": [
    "model = Model(checkpoint_dir, avg=.999, context_length=context,\n",
    "              offset=train_set.offset, m=train_set.m, dataset=train_set,\n",
    "              weight_scale=.01)\n",
    "model.initialize()"
   ]
  },
  {
   "cell_type": "code",
   "execution_count": null,
   "metadata": {},
   "outputs": [],
   "source": [
    "optimize(model,train_set,test_set,learning_rate=.001,batch_size=300,workers=4,update_rate=1000)"
   ]
  },
  {
   "cell_type": "code",
   "execution_count": null,
   "metadata": {},
   "outputs": [],
   "source": [
    "optimize(model,train_set,test_set,learning_rate=.0003,batch_size=300,workers=4,update_rate=1000)"
   ]
  },
  {
   "cell_type": "code",
   "execution_count": null,
   "metadata": {},
   "outputs": [],
   "source": [
    "model.restore_checkpoint()\n",
    "plt = media.PlotFormatter(burnin=5000)\n",
    "plt.plot('log loss',model.stats['ll_tr'][2],color='b')\n",
    "plt.plot('log loss',model.stats['ll_test'][2],color='g',share=True)\n",
    "plt.plot('avp notes',model.stats['apn_tr'][2],color='b')\n",
    "plt.plot('avp notes',model.stats['apn_ts'][2],color='g',share=True)\n",
    "plt.plot('rhythm weights',model.sum_weights('rhythm'),color='g')\n",
    "plt.plot('notes weights',model.sum_weights('notes'),color='g')\n",
    "plt.plot('rhythm log loss',model.stats['llt_tr'][2],color='b')\n",
    "plt.plot('rhythm log loss',model.stats['llt_ts'][2],color='g',share=True)\n",
    "plt.plot('notes log loss',model.stats['lln_tr'][2],color='b')\n",
    "plt.plot('notes log loss',model.stats['lln_ts'][2],color='g',share=True)\n",
    "plt.show()"
   ]
  },
  {
   "cell_type": "code",
   "execution_count": null,
   "metadata": {},
   "outputs": [],
   "source": [
    "from lib.config import piano_corpora\n",
    "from lib.opt import terminal_error\n",
    "\n",
    "non_piano_corpora = tuple([corpus for corpus in corpora.keys() if corpus not in piano_corpora])\n",
    "non_piano_test_set = VoicesDataset(context=context,split=DatasetSplit.test, corpora=non_piano_corpora)\n",
    "with model.iterate_averaging():\n",
    "    print(terminal_error(model,non_piano_test_set,batch_size=100))"
   ]
  },
  {
   "cell_type": "code",
   "execution_count": null,
   "metadata": {},
   "outputs": [],
   "source": []
  }
 ],
 "metadata": {
  "kernelspec": {
   "display_name": "Python 3",
   "language": "python",
   "name": "python3"
  },
  "language_info": {
   "codemirror_mode": {
    "name": "ipython",
    "version": 3
   },
   "file_extension": ".py",
   "mimetype": "text/x-python",
   "name": "python",
   "nbconvert_exporter": "python",
   "pygments_lexer": "ipython3",
   "version": "3.5.2"
  }
 },
 "nbformat": 4,
 "nbformat_minor": 2
}
