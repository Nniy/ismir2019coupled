{
 "cells": [
  {
   "cell_type": "code",
   "execution_count": null,
   "metadata": {},
   "outputs": [],
   "source": [
    "import os\n",
    "import numpy as np\n",
    "import torch\n",
    "from torch import Tensor\n",
    "from torch.nn.parameter import Parameter\n",
    "from torch.autograd import Variable\n",
    "import torch.nn.functional as F\n",
    "\n",
    "from lib.voices_dataset import VoicesDataset,DatasetSplit\n",
    "from lib.voices_model import VoicesModel\n",
    "from lib.opt import optimize\n",
    "from lib.config import corpora\n",
    "\n",
    "import lib.media as media\n",
    "from IPython.display import Audio,clear_output\n",
    "from scipy.io import wavfile"
   ]
  },
  {
   "cell_type": "code",
   "execution_count": null,
   "metadata": {},
   "outputs": [],
   "source": [
    "os.environ['CUDA_DEVICE_ORDER']='PCI_BUS_ID'   # see issue #152\n",
    "os.environ['CUDA_VISIBLE_DEVICES']='0'\n",
    "#os.environ['CUDA_LAUNCH_BLOCKING']='1'\n",
    "\n",
    "checkpoint_dir = '_multipart2'\n",
    "context = 5"
   ]
  },
  {
   "cell_type": "code",
   "execution_count": null,
   "metadata": {},
   "outputs": [],
   "source": [
    "train_set = VoicesDataset(context=context,split=DatasetSplit.train)\n",
    "test_set = VoicesDataset(context=context,split=DatasetSplit.test)"
   ]
  },
  {
   "cell_type": "code",
   "execution_count": null,
   "metadata": {},
   "outputs": [],
   "source": [
    "class Model(VoicesModel):\n",
    "    def __init__(self, *args, **kwargs):\n",
    "        super().__init__(*args, **kwargs)\n",
    "    \n",
    "    def define_graph(self, debug=False):\n",
    "        self.parts = train_set.max_parts\n",
    "        self.maxdur = train_set.maxdur\n",
    "        self.dur_features = len(train_set.dur_map)\n",
    "        self.knote = 16\n",
    "        self.kt = 64\n",
    "        self.kn = 128\n",
    "                \n",
    "        # reference meter for pitch class\n",
    "        self.noteref = np.zeros([1,1,2*self.m-1],dtype=np.float32)\n",
    "        self.noteref[0,0,self.m] = 1\n",
    "        self.noteref = Variable(torch.from_numpy(self.noteref).cuda(), requires_grad=False)\n",
    "        \n",
    "        fold = np.zeros([self.m,12],dtype=np.float32)\n",
    "        for n in range(self.m):\n",
    "            fold[n,n%12] = 1\n",
    "        self.fold = Variable(torch.from_numpy(fold).cuda(),requires_grad=False)\n",
    "        \n",
    "        # rhythm prediction\n",
    "        self.rhythmpart_wt = Parameter(Tensor(self.dur_features,self.kt))\n",
    "        self.rhythmpart_wn = Parameter(Tensor(12,self.kt))\n",
    "        self.rhythmpart_wh = Parameter(Tensor(self.kt,self.kt))\n",
    "        \n",
    "        self.rhythm_wpart = Parameter(Tensor(self.kt,self.kt))\n",
    "        self.rhythm_wh = Parameter(Tensor(self.kt,self.kt))\n",
    "        \n",
    "        self.rhythm_wloc = Parameter(Tensor(48,self.kt))\n",
    "        self.rhythm_wthis = Parameter(Tensor(self.kt,self.kt))\n",
    "        self.rhythm_wall = Parameter(Tensor(self.kt,self.kt))\n",
    "        \n",
    "        self.rhythm_wtop = Parameter(Tensor(self.kt,self.maxdur))\n",
    "        self.rhythm_bias = Parameter(Tensor(self.maxdur))\n",
    "        \n",
    "        # notes prediction\n",
    "        self.notespart_wnote = Parameter(Tensor(self.knote,1,2*self.m))\n",
    "        \n",
    "        self.notespart_wt = Parameter(Tensor(self.dur_features,self.kn))   \n",
    "        self.notespart_wn = Parameter(Tensor(self.knote,self.kn))\n",
    "        self.notespart_wyn = Parameter(Tensor(self.kn,1,self.m-1))\n",
    "        self.notespart_wh = Parameter(Tensor(self.kn,self.kn))\n",
    "        \n",
    "        self.notes_wpart = Parameter(Tensor(self.kn,self.kn))\n",
    "        self.notes_wh = Parameter(Tensor(self.kn,self.kn))\n",
    "        \n",
    "        self.notes_wref = Parameter(Tensor(self.kn,1,self.m))\n",
    "        self.notes_wthis = Parameter(Tensor(self.kn,self.kn))\n",
    "        self.notes_wall = Parameter(Tensor(self.kn,self.kn))\n",
    "        \n",
    "        self.notes_wtop = Parameter(Tensor(self.kn,1))\n",
    "        self.notes_bias = Parameter(Tensor(self.m))\n",
    "    \n",
    "    def predict_rhythm(self, e, t, f, y, yt, yf, loc, corpus):\n",
    "        t = torch.cat([t,yt[:,None]],dim=1)\n",
    "        ft = torch.mm(t.view(-1,self.dur_features),self.rhythmpart_wt).view(-1,self.context+1,self.parts,self.kt)\n",
    "        ft[:,-1,0] = 0*ft[:,-1,0]\n",
    "        \n",
    "        e = torch.cat([e,y[:,None]],dim=1)\n",
    "        ef = torch.mm(e.view(-1,self.m),self.fold)\n",
    "        fn = torch.mm(ef,self.rhythmpart_wn).view(-1,self.context+1,self.parts,self.kt)\n",
    "        fn[:,-1,0] = 0*fn[:,-1,0]\n",
    "        \n",
    "        f = torch.cat([f,yf[:,None]],dim=1)\n",
    "        \n",
    "        floc = torch.mm(loc,self.rhythm_wloc)\n",
    "        \n",
    "        hpart = Variable(torch.zeros(e.shape[0],self.parts,self.kt).cuda())\n",
    "        h = Variable(torch.zeros(1,self.kt).cuda())\n",
    "        for k in range(self.context+1):\n",
    "            hpart = torch.bmm(f[:,k].transpose(1,2),hpart)\n",
    "            \n",
    "            fparth = torch.mm(hpart.view(-1,self.kt),self.rhythmpart_wh).view(-1,self.parts,self.kt)\n",
    "            hpart = F.relu(fparth + ft[:,k] + fn[:,k] + floc[:,None])\n",
    "            \n",
    "            fh = torch.mm(h.view(-1,self.kt),self.rhythm_wh).view(-1,self.kt)\n",
    "            fpart = torch.mm(hpart.sum(dim=1),self.rhythm_wpart)\n",
    "            h = F.relu(fh + fpart)\n",
    "        \n",
    "        fall = torch.mm(h,self.rhythm_wall)\n",
    "        fthis = torch.mm(hpart[:,0],self.rhythm_wthis)\n",
    "        zx = F.relu(fall + fthis)\n",
    "\n",
    "        return torch.mm(zx,self.rhythm_wtop) + self.rhythm_bias\n",
    "    \n",
    "    def predict_notes(self, e, t, f, y, yt, yf, loc, corpus):\n",
    "        e = torch.cat([e,y[:,None]],dim=1)\n",
    "        fembed = F.conv1d(F.pad(e.view(-1,self.m),(self.m,self.m-1))[:,None],self.notespart_wnote)\n",
    "        fembed = fembed.transpose(1,2).contiguous().view(-1,self.knote)\n",
    "        \n",
    "        t = torch.cat([t,yt[:,None]],dim=1)\n",
    "        ft = torch.mm(t.view(-1,self.dur_features),self.notespart_wt)\n",
    "        ft = ft.view(-1,self.context+1,self.parts,self.kn)[:,:,:,None]\n",
    "        \n",
    "        fn = torch.mm(fembed,self.notespart_wn)\n",
    "        fn = fn.view(-1,self.context+1,self.parts,self.m,self.kn)\n",
    "        fn[:,-1,0] = F.conv1d(F.pad(y[:,0],(self.m-1,0))[:,None],self.notespart_wyn)[:,:,:-1].transpose(1,2)\n",
    "        \n",
    "        f = torch.cat([f,yf[:,None]],dim=1)\n",
    "        \n",
    "        fref = F.conv1d(self.noteref,self.notes_wref).transpose(1,2)\n",
    "        \n",
    "        hpart = Variable(torch.zeros(e.shape[0],self.parts,self.m,self.kn).cuda())\n",
    "        h = Variable(torch.zeros(1,self.m,self.kn).cuda())\n",
    "        for k in range(self.context+1):\n",
    "            hpart = torch.bmm(f[:,k].transpose(1,2),hpart.view(hpart.shape[0],self.parts,-1)).view(-1,self.parts,self.m,self.kn)\n",
    "            \n",
    "            fparth = torch.mm(hpart.view(-1,self.kn),self.notespart_wh).view(-1,self.parts,self.m,self.kn)\n",
    "            hpart = F.relu(fparth + ft[:,k] + fn[:,k] + fref)\n",
    "            \n",
    "            fh = torch.mm(h.view(-1,self.kn),self.notes_wh).view(-1,self.m,self.kn)\n",
    "            fpart = torch.mm(hpart.sum(dim=1).view(-1,self.kn),self.notes_wpart).view(-1,self.m,self.kn)\n",
    "            h = F.relu(fh + fpart)\n",
    "        \n",
    "        fall = torch.mm(h.view(-1,self.kn),self.notes_wall).view(-1,self.m,self.kn)\n",
    "        fthis = torch.mm(hpart[:,0].contiguous().view(-1,self.kn),self.notes_wthis).view(-1,self.m,self.kn)\n",
    "        zx = F.relu(fall + fthis)\n",
    "        \n",
    "        return torch.mm(zx.view(-1,self.kn),self.notes_wtop).view(-1,self.m) + self.notes_bias\n",
    "    \n",
    "    def forward(self, x):\n",
    "        e,t,f,y,yt,yf,loc,corpus = x\n",
    "        return self.predict_rhythm(e,t,f,y,yt,yf,loc,corpus), self.predict_notes(e,t,f,y,yt,yf,loc,corpus)"
   ]
  },
  {
   "cell_type": "code",
   "execution_count": null,
   "metadata": {},
   "outputs": [],
   "source": [
    "model = Model(checkpoint_dir, avg=.999, context_length=context,\n",
    "              offset=train_set.offset, m=train_set.m, dataset=train_set,\n",
    "              weight_scale=.003)\n",
    "model.initialize()"
   ]
  },
  {
   "cell_type": "code",
   "execution_count": null,
   "metadata": {},
   "outputs": [],
   "source": [
    "optimize(model,train_set,test_set,learning_rate=.003,batch_size=100,workers=4,update_rate=5000,l2=.0001)"
   ]
  },
  {
   "cell_type": "code",
   "execution_count": null,
   "metadata": {},
   "outputs": [],
   "source": [
    "optimize(model,train_set,test_set,learning_rate=.001,batch_size=100,workers=4,update_rate=5000,l2=.0001)"
   ]
  },
  {
   "cell_type": "code",
   "execution_count": null,
   "metadata": {},
   "outputs": [],
   "source": [
    "optimize(model,train_set,test_set,learning_rate=.0003,batch_size=100,workers=4,update_rate=5000,l2=.0001)"
   ]
  },
  {
   "cell_type": "code",
   "execution_count": null,
   "metadata": {},
   "outputs": [],
   "source": [
    "optimize(model,train_set,test_set,learning_rate=.0001,batch_size=100,workers=4,update_rate=5000,l2=.0001)"
   ]
  },
  {
   "cell_type": "code",
   "execution_count": null,
   "metadata": {},
   "outputs": [],
   "source": [
    "model.restore_checkpoint()\n",
    "plt = media.PlotFormatter(burnin=20000)\n",
    "plt.plot('log loss',model.stats['ll_tr'][2],color='b')\n",
    "plt.plot('log loss',model.stats['ll_test'][2],color='g',share=True)\n",
    "plt.plot('avp notes',model.stats['apn_tr'][2],color='b')\n",
    "plt.plot('avp notes',model.stats['apn_ts'][2],color='g',share=True)\n",
    "plt.plot('rhythm weights',model.sum_weights('rhythm'),color='g')\n",
    "plt.plot('notes weights',model.sum_weights('notes'),color='g')\n",
    "plt.plot('rhythm log loss',model.stats['llt_tr'][2],color='b')\n",
    "plt.plot('rhythm log loss',model.stats['llt_ts'][2],color='g',share=True)\n",
    "plt.plot('notes log loss',model.stats['lln_tr'][2],color='b')\n",
    "plt.plot('notes log loss',model.stats['lln_ts'][2],color='g',share=True)\n",
    "plt.show()"
   ]
  },
  {
   "cell_type": "code",
   "execution_count": null,
   "metadata": {},
   "outputs": [],
   "source": [
    "from lib.config import piano_corpora\n",
    "from lib.opt import terminal_error\n",
    "\n",
    "non_piano_corpora = tuple([corpus for corpus in corpora.keys() if corpus not in piano_corpora])\n",
    "non_piano_test_set = VoicesDataset(context=context,split=DatasetSplit.test, corpora=non_piano_corpora)\n",
    "with model.iterate_averaging():\n",
    "    print(terminal_error(model,non_piano_test_set,batch_size=100))"
   ]
  },
  {
   "cell_type": "code",
   "execution_count": null,
   "metadata": {},
   "outputs": [],
   "source": []
  }
 ],
 "metadata": {
  "kernelspec": {
   "display_name": "Python 3",
   "language": "python",
   "name": "python3"
  },
  "language_info": {
   "codemirror_mode": {
    "name": "ipython",
    "version": 3
   },
   "file_extension": ".py",
   "mimetype": "text/x-python",
   "name": "python",
   "nbconvert_exporter": "python",
   "pygments_lexer": "ipython3",
   "version": "3.5.2"
  }
 },
 "nbformat": 4,
 "nbformat_minor": 2
}
